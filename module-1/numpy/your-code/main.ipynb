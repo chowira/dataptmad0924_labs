{
 "cells": [
  {
   "cell_type": "markdown",
   "metadata": {},
   "source": [
    "# Introduction to NumPy\n",
    "\n",
    "\n",
    "#### 1. Import NumPy under the name np."
   ]
  },
  {
   "cell_type": "code",
   "execution_count": 125,
   "metadata": {},
   "outputs": [],
   "source": [
    "import numpy as np   #importamos numpy como np especificandolo para poder recortar el nombre\n",
    "                        # OJO: estar pendiente de estar en el ambiente adecuado para trabajar en este caso el (m1) "
   ]
  },
  {
   "cell_type": "markdown",
   "metadata": {},
   "source": [
    "#### 2. Print your NumPy version."
   ]
  },
  {
   "cell_type": "code",
   "execution_count": 126,
   "metadata": {},
   "outputs": [
    {
     "name": "stdout",
     "output_type": "stream",
     "text": [
      "1.26.4\n"
     ]
    }
   ],
   "source": [
    "print(np.__version__) #vemos cual tenemos instalada "
   ]
  },
  {
   "cell_type": "markdown",
   "metadata": {},
   "source": [
    "#### 3. Generate a 2x3x5 3-dimensional array with random values. Assign the array to variable *a*.\n",
    "**Challenge**: there are at least three easy ways that use numpy to generate random arrays. How many ways can you find?"
   ]
  },
  {
   "cell_type": "code",
   "execution_count": 127,
   "metadata": {},
   "outputs": [
    {
     "name": "stdout",
     "output_type": "stream",
     "text": [
      "[[[0.70524467 0.92484708 0.60788826 0.54061579 0.98390266]\n",
      "  [0.44563475 0.63523371 0.42632917 0.18955444 0.24271917]\n",
      "  [0.14429531 0.16216711 0.8606115  0.06657928 0.3703588 ]]\n",
      "\n",
      " [[0.49945797 0.21431872 0.26103199 0.75745394 0.00116557]\n",
      "  [0.62750059 0.30780527 0.70546229 0.22937943 0.17385642]\n",
      "  [0.57700811 0.41437224 0.6738838  0.08656576 0.97863397]]]\n"
     ]
    }
   ],
   "source": [
    "a = np.random.rand(2, 3, 5) #usamos el metodo np.random.rand() Para números flotantes uniformemente distribuidos\n",
    "print(a)"
   ]
  },
  {
   "cell_type": "code",
   "execution_count": 128,
   "metadata": {
    "scrolled": true
   },
   "outputs": [
    {
     "name": "stdout",
     "output_type": "stream",
     "text": [
      "[[[-0.62084318 -1.65336524 -0.48176395  0.3314338   1.10228967]\n",
      "  [-1.20742166 -1.3379913   1.56060033 -0.67366119  1.01177791]\n",
      "  [ 0.64394706  0.15191885  1.21670825 -1.21967353 -1.27310999]]\n",
      "\n",
      " [[ 0.33711312  1.12438946 -0.89580373  0.82403255 -1.13459342]\n",
      "  [ 2.59791274  1.00049607  2.1335266   0.16389907 -0.11777927]\n",
      "  [-0.26290382 -0.28464848  0.739484    0.59268939 -0.74119297]]]\n"
     ]
    }
   ],
   "source": [
    "a = np.random.randn(2, 3, 5) # #usamos el metodo np.random.randn() Para números flotantes normalmente distribuidos\n",
    "print(a)                         #muy parecido al primer metodo "
   ]
  },
  {
   "cell_type": "code",
   "execution_count": 129,
   "metadata": {
    "scrolled": true
   },
   "outputs": [
    {
     "name": "stdout",
     "output_type": "stream",
     "text": [
      "[[[8 4 0 1 8]\n",
      "  [9 8 0 9 9]\n",
      "  [8 0 3 8 4]]\n",
      "\n",
      " [[4 8 3 5 7]\n",
      "  [4 6 3 7 4]\n",
      "  [5 8 7 9 5]]]\n"
     ]
    }
   ],
   "source": [
    "a = np.random.randint(0, 10, size=(2, 3, 5)) #usamos el metodo np.random.randint() especificando de que numero a que numero crear los elementos aleatorios y el tamaño del objeto de clase  numpy.ndarray  que queromos crear \n",
    "print(a_3)\n"
   ]
  },
  {
   "cell_type": "code",
   "execution_count": 130,
   "metadata": {},
   "outputs": [
    {
     "name": "stdout",
     "output_type": "stream",
     "text": [
      "<class 'numpy.ndarray'>\n"
     ]
    }
   ],
   "source": [
    "print(type(a))\n"
   ]
  },
  {
   "cell_type": "markdown",
   "metadata": {},
   "source": [
    "#### 4. Print *a*.\n"
   ]
  },
  {
   "cell_type": "code",
   "execution_count": 131,
   "metadata": {},
   "outputs": [
    {
     "name": "stdout",
     "output_type": "stream",
     "text": [
      "[[[4 3 5 7 5]\n",
      "  [3 2 9 4 7]\n",
      "  [6 0 9 8 5]]\n",
      "\n",
      " [[5 4 4 1 0]\n",
      "  [7 5 4 5 4]\n",
      "  [8 3 2 0 6]]]\n"
     ]
    }
   ],
   "source": [
    "print(a)"
   ]
  },
  {
   "cell_type": "markdown",
   "metadata": {},
   "source": [
    "#### 5. Create a 5x2x3 3-dimensional array with all values equaling 1. Assign the array to variable *b*."
   ]
  },
  {
   "cell_type": "code",
   "execution_count": 132,
   "metadata": {},
   "outputs": [],
   "source": [
    "b = np.ones((5, 2, 3))"
   ]
  },
  {
   "cell_type": "markdown",
   "metadata": {},
   "source": [
    "#### 6. Print *b*.\n"
   ]
  },
  {
   "cell_type": "code",
   "execution_count": 133,
   "metadata": {},
   "outputs": [
    {
     "name": "stdout",
     "output_type": "stream",
     "text": [
      "[[[1. 1. 1.]\n",
      "  [1. 1. 1.]]\n",
      "\n",
      " [[1. 1. 1.]\n",
      "  [1. 1. 1.]]\n",
      "\n",
      " [[1. 1. 1.]\n",
      "  [1. 1. 1.]]\n",
      "\n",
      " [[1. 1. 1.]\n",
      "  [1. 1. 1.]]\n",
      "\n",
      " [[1. 1. 1.]\n",
      "  [1. 1. 1.]]]\n"
     ]
    }
   ],
   "source": [
    "print(b)"
   ]
  },
  {
   "cell_type": "markdown",
   "metadata": {},
   "source": [
    "#### 7. Do *a* and *b* have the same size? How do you prove that in Python code?"
   ]
  },
  {
   "cell_type": "code",
   "execution_count": 134,
   "metadata": {},
   "outputs": [
    {
     "name": "stdout",
     "output_type": "stream",
     "text": [
      "30\n",
      "30\n"
     ]
    }
   ],
   "source": [
    "print(a.size) #usamos el metodo size. para ver el tamaño del obajeto \n",
    "print(b.size) #vemos que tienen el mismo size "
   ]
  },
  {
   "cell_type": "markdown",
   "metadata": {},
   "source": [
    "#### 8. Are you able to add *a* and *b*? Why or why not?\n"
   ]
  },
  {
   "cell_type": "code",
   "execution_count": 73,
   "metadata": {},
   "outputs": [
    {
     "ename": "ValueError",
     "evalue": "operands could not be broadcast together with shapes (2,3,5) (5,2,3) ",
     "output_type": "error",
     "traceback": [
      "\u001b[1;31m---------------------------------------------------------------------------\u001b[0m",
      "\u001b[1;31mValueError\u001b[0m                                Traceback (most recent call last)",
      "Cell \u001b[1;32mIn[73], line 1\u001b[0m\n\u001b[1;32m----> 1\u001b[0m sum_a_b \u001b[38;5;241m=\u001b[39m \u001b[43ma\u001b[49m\u001b[43m \u001b[49m\u001b[38;5;241;43m+\u001b[39;49m\u001b[43m \u001b[49m\u001b[43mb\u001b[49m\n",
      "\u001b[1;31mValueError\u001b[0m: operands could not be broadcast together with shapes (2,3,5) (5,2,3) "
     ]
    }
   ],
   "source": [
    "sum_a_b = a + b # no se podria agregar la matices a en b porque sus formas no son iguales a pesar de tener el mismo size"
   ]
  },
  {
   "cell_type": "markdown",
   "metadata": {},
   "source": [
    "#### 9. Transpose *b* so that it has the same structure of *a* (i.e. become a 2x3x5 array). Assign the transposed array to variable *c*."
   ]
  },
  {
   "cell_type": "code",
   "execution_count": 135,
   "metadata": {},
   "outputs": [
    {
     "name": "stdout",
     "output_type": "stream",
     "text": [
      "[[[1. 1. 1. 1. 1.]\n",
      "  [1. 1. 1. 1. 1.]]\n",
      "\n",
      " [[1. 1. 1. 1. 1.]\n",
      "  [1. 1. 1. 1. 1.]]\n",
      "\n",
      " [[1. 1. 1. 1. 1.]\n",
      "  [1. 1. 1. 1. 1.]]]\n"
     ]
    }
   ],
   "source": [
    "c = b.transpose() #usamos el metodo transpos para que nos de c como resultado \n",
    "print(c)"
   ]
  },
  {
   "cell_type": "markdown",
   "metadata": {},
   "source": [
    "#### 10. Try to add *a* and *c*. Now it should work. Assign the sum to variable *d*. But why does it work now?"
   ]
  },
  {
   "cell_type": "code",
   "execution_count": 136,
   "metadata": {},
   "outputs": [
    {
     "ename": "ValueError",
     "evalue": "operands could not be broadcast together with shapes (2,3,5) (3,2,5) ",
     "output_type": "error",
     "traceback": [
      "\u001b[1;31m---------------------------------------------------------------------------\u001b[0m",
      "\u001b[1;31mValueError\u001b[0m                                Traceback (most recent call last)",
      "Cell \u001b[1;32mIn[136], line 1\u001b[0m\n\u001b[1;32m----> 1\u001b[0m d \u001b[38;5;241m=\u001b[39m \u001b[43ma\u001b[49m\u001b[43m \u001b[49m\u001b[38;5;241;43m+\u001b[39;49m\u001b[43m \u001b[49m\u001b[43mc\u001b[49m\n",
      "\u001b[1;31mValueError\u001b[0m: operands could not be broadcast together with shapes (2,3,5) (3,2,5) "
     ]
    }
   ],
   "source": [
    "d = a + c #vemos que tampoco funciona debido a que ahora seria deforma (3,2,5) y tampoco seria compatible "
   ]
  },
  {
   "cell_type": "code",
   "execution_count": 139,
   "metadata": {},
   "outputs": [
    {
     "name": "stdout",
     "output_type": "stream",
     "text": [
      "[[[1. 1. 1. 1. 1.]\n",
      "  [1. 1. 1. 1. 1.]]\n",
      "\n",
      " [[1. 1. 1. 1. 1.]\n",
      "  [1. 1. 1. 1. 1.]]\n",
      "\n",
      " [[1. 1. 1. 1. 1.]\n",
      "  [1. 1. 1. 1. 1.]]]\n",
      "(3, 2, 5)\n"
     ]
    }
   ],
   "source": [
    "print(c)\n",
    "print(c.shape) #vemos la forma\n"
   ]
  },
  {
   "cell_type": "code",
   "execution_count": 151,
   "metadata": {},
   "outputs": [
    {
     "name": "stdout",
     "output_type": "stream",
     "text": [
      "[[[1. 1. 1. 1. 1.]\n",
      "  [1. 1. 1. 1. 1.]\n",
      "  [1. 1. 1. 1. 1.]]\n",
      "\n",
      " [[1. 1. 1. 1. 1.]\n",
      "  [1. 1. 1. 1. 1.]\n",
      "  [1. 1. 1. 1. 1.]]]\n"
     ]
    }
   ],
   "source": [
    "c = c.reshape(2,3,5) #usamos la funcion reshape y le especificamos la forma que queremos.\n",
    "print(c)            #vemos que ahora tienen las mis forma "
   ]
  },
  {
   "cell_type": "code",
   "execution_count": 154,
   "metadata": {},
   "outputs": [
    {
     "name": "stdout",
     "output_type": "stream",
     "text": [
      "[[[ 5.  4.  6.  8.  6.]\n",
      "  [ 4.  3. 10.  5.  8.]\n",
      "  [ 7.  1. 10.  9.  6.]]\n",
      "\n",
      " [[ 6.  5.  5.  2.  1.]\n",
      "  [ 8.  6.  5.  6.  5.]\n",
      "  [ 9.  4.  3.  1.  7.]]]\n"
     ]
    }
   ],
   "source": [
    "d = a + c\n",
    "print(d)"
   ]
  },
  {
   "cell_type": "markdown",
   "metadata": {},
   "source": [
    "#### 11. Print *a* and *d*. Notice the difference and relation of the two array in terms of the values? Explain."
   ]
  },
  {
   "cell_type": "code",
   "execution_count": 155,
   "metadata": {
    "scrolled": true
   },
   "outputs": [
    {
     "name": "stdout",
     "output_type": "stream",
     "text": [
      "[[[4 3 5 7 5]\n",
      "  [3 2 9 4 7]\n",
      "  [6 0 9 8 5]]\n",
      "\n",
      " [[5 4 4 1 0]\n",
      "  [7 5 4 5 4]\n",
      "  [8 3 2 0 6]]]\n",
      "[[[ 5.  4.  6.  8.  6.]\n",
      "  [ 4.  3. 10.  5.  8.]\n",
      "  [ 7.  1. 10.  9.  6.]]\n",
      "\n",
      " [[ 6.  5.  5.  2.  1.]\n",
      "  [ 8.  6.  5.  6.  5.]\n",
      "  [ 9.  4.  3.  1.  7.]]]\n",
      "<class 'numpy.ndarray'>\n",
      "<class 'numpy.ndarray'>\n"
     ]
    }
   ],
   "source": [
    "print(a)             # en el conjunto a esta el original y en el elemenyo d esta los elementos de a mas los elemntos de c.\n",
    "print(d)             # podemos con cluir que podemos sumar numpys con la misma forma para que puedan ser compatibles\n",
    "print(type(a))\n",
    "print(type(d))"
   ]
  },
  {
   "cell_type": "markdown",
   "metadata": {},
   "source": [
    "#### 12. Multiply *a* and *c*. Assign the result to *e*."
   ]
  },
  {
   "cell_type": "code",
   "execution_count": 156,
   "metadata": {},
   "outputs": [
    {
     "name": "stdout",
     "output_type": "stream",
     "text": [
      "[[[4. 3. 5. 7. 5.]\n",
      "  [3. 2. 9. 4. 7.]\n",
      "  [6. 0. 9. 8. 5.]]\n",
      "\n",
      " [[5. 4. 4. 1. 0.]\n",
      "  [7. 5. 4. 5. 4.]\n",
      "  [8. 3. 2. 0. 6.]]]\n"
     ]
    }
   ],
   "source": [
    "e = a * c #vemos que podemos hacer operaciones matematicas y cada elemento se multiplica por el otro elemento en su misma posicion \n",
    "print (e)"
   ]
  },
  {
   "cell_type": "markdown",
   "metadata": {},
   "source": [
    "#### 13. Does *e* equal to *a*? Why or why not?\n"
   ]
  },
  {
   "cell_type": "code",
   "execution_count": 157,
   "metadata": {},
   "outputs": [
    {
     "data": {
      "text/plain": [
       "array([[[ True,  True,  True,  True,  True],\n",
       "        [ True,  True,  True,  True,  True],\n",
       "        [ True,  True,  True,  True,  True]],\n",
       "\n",
       "       [[ True,  True,  True,  True,  True],\n",
       "        [ True,  True,  True,  True,  True],\n",
       "        [ True,  True,  True,  True,  True]]])"
      ]
     },
     "execution_count": 157,
     "metadata": {},
     "output_type": "execute_result"
    }
   ],
   "source": [
    " e == a #vemos que si son iguales en todo sentido \n",
    "    "
   ]
  },
  {
   "cell_type": "markdown",
   "metadata": {},
   "source": [
    "#### 14. Identify the max, min, and mean values in *d*. Assign those values to variables *d_max*, *d_min* and *d_mean*."
   ]
  },
  {
   "cell_type": "code",
   "execution_count": 158,
   "metadata": {
    "scrolled": true
   },
   "outputs": [
    {
     "name": "stdout",
     "output_type": "stream",
     "text": [
      "10.0\n",
      "1.0\n",
      "5.5\n",
      "<class 'numpy.float64'>\n",
      "<class 'numpy.float64'>\n",
      "<class 'numpy.float64'>\n"
     ]
    }
   ],
   "source": [
    "d_max = np.max(d)  # usamos el metodo que nos devuelve el valor mas alto \n",
    "d_min = np.min(d)  # usamos el metodo que nos devuelve el valor mas bajo \n",
    "d_mean = np.mean(d) # usamos el metodo que nos devuelve el valor medio de los elementos\n",
    "print(d_max)\n",
    "print(d_min)\n",
    "print(d_mean)\n",
    "print(type(d_max))\n",
    "print(type(d_min))\n",
    "print(type(d_mean))"
   ]
  },
  {
   "cell_type": "markdown",
   "metadata": {},
   "source": [
    "#### 15. Now we want to label the values in *d*. First create an empty array *f* with the same shape (i.e. 2x3x5) as *d* using `np.empty`.\n"
   ]
  },
  {
   "cell_type": "code",
   "execution_count": 159,
   "metadata": {
    "scrolled": true
   },
   "outputs": [
    {
     "name": "stdout",
     "output_type": "stream",
     "text": [
      "[[[4. 3. 5. 7. 5.]\n",
      "  [3. 2. 9. 4. 7.]\n",
      "  [6. 0. 9. 8. 5.]]\n",
      "\n",
      " [[5. 4. 4. 1. 0.]\n",
      "  [7. 5. 4. 5. 4.]\n",
      "  [8. 3. 2. 0. 6.]]]\n"
     ]
    }
   ],
   "source": [
    "f = np.empty(d.shape) #creamos una matriz vacia con la forma de d usando  np.empty(d.shape) \n",
    "print(f)"
   ]
  },
  {
   "cell_type": "markdown",
   "metadata": {},
   "source": [
    "#### 16. Populate the values in *f*. \n",
    "\n",
    "For each value in *d*, if it's larger than *d_min* but smaller than *d_mean*, assign 25 to the corresponding value in *f*. If a value in *d* is larger than *d_mean* but smaller than *d_max*, assign 75 to the corresponding value in *f*. If a value equals to *d_mean*, assign 50 to the corresponding value in *f*. Assign 0 to the corresponding value(s) in *f* for *d_min* in *d*. Assign 100 to the corresponding value(s) in *f* for *d_max* in *d*. In the end, f should have only the following values: 0, 25, 50, 75, and 100.\n",
    "\n",
    "**Note**: you don't have to use Numpy in this question."
   ]
  },
  {
   "cell_type": "code",
   "execution_count": 169,
   "metadata": {},
   "outputs": [
    {
     "name": "stdout",
     "output_type": "stream",
     "text": [
      "[[[ 25.  25.  75.  75.  75.]\n",
      "  [ 25.  25. 100.  25.  75.]\n",
      "  [ 75.   0. 100.  75.  75.]]\n",
      "\n",
      " [[ 75.  25.  25.  25.   0.]\n",
      "  [ 75.  75.  25.  75.  25.]\n",
      "  [ 75.  25.  25.   0.  75.]]]\n",
      "<class 'numpy.float64'>\n"
     ]
    }
   ],
   "source": [
    "#nos piden definir unas condiciones especificas para los valores de cada posicion. vemos que podemos usar los numpy pata hacerlo\n",
    "#especificando el parametro.#fpara referirinos a nuestra matriz vacia \n",
    "f[(d == d_min)] = 0     #especificamos que para los elementos en d si es igual al d_min(valor mas bajo)use un 0\n",
    "f[(d == d_mean)] = 50   #especificamos igual mente que si el elemento es igual al d_mean(valor medio) use un 50\n",
    "f[(d == d_max)] = 100  #especificamos que si el valor es igual al d_max (valor mas alto)use 100\n",
    "f[(d_min < d) & (d < d_mean)] = 25#en las que tenemos dos condiciones. si d es mayor que d_min pero menor que la d_mean use el 25\n",
    "f[(d_mean < d) & (d < d_max)] = 75# si d es mayor que la media y d es menor que la d_max use un 75\n",
    "print(f) #vemos que nos funcion \n",
    "print(type(f[1,1,1]))#vemos que los elementos dentro son numpy.float64"
   ]
  },
  {
   "cell_type": "markdown",
   "metadata": {},
   "source": [
    "#### 17. Print *d* and *f*. Do you have your expected *f*?\n",
    "For instance, if your *d* is:\n",
    "```python\n",
    "[[[1.85836099, 1.67064465, 1.62576044, 1.40243961, 1.88454931],\n",
    "[1.75354326, 1.69403643, 1.36729252, 1.61415071, 1.12104981],\n",
    "[1.72201435, 1.1862918 , 1.87078449, 1.7726778 , 1.88180042]],\n",
    "[[1.44747908, 1.31673383, 1.02000951, 1.52218947, 1.97066381],\n",
    "[1.79129243, 1.74983003, 1.96028037, 1.85166831, 1.65450881],\n",
    "[1.18068344, 1.9587381 , 1.00656599, 1.93402165, 1.73514584]]]\n",
    "```\n",
    "Your *f* should be:\n",
    "```python\n",
    "[[[ 75.,  75.,  75.,  25.,  75.],\n",
    "[ 75.,  75.,  25.,  25.,  25.],\n",
    "[ 75.,  25.,  75.,  75.,  75.]],\n",
    "[[ 25.,  25.,  25.,  25., 100.],\n",
    "[ 75.,  75.,  75.,  75.,  75.],\n",
    "[ 25.,  75.,   0.,  75.,  75.]]]\n",
    "```"
   ]
  },
  {
   "cell_type": "code",
   "execution_count": 161,
   "metadata": {},
   "outputs": [
    {
     "name": "stdout",
     "output_type": "stream",
     "text": [
      "[[[ 5.  4.  6.  8.  6.]\n",
      "  [ 4.  3. 10.  5.  8.]\n",
      "  [ 7.  1. 10.  9.  6.]]\n",
      "\n",
      " [[ 6.  5.  5.  2.  1.]\n",
      "  [ 8.  6.  5.  6.  5.]\n",
      "  [ 9.  4.  3.  1.  7.]]]\n",
      "[[[ 25.  25.  75.  75.  75.]\n",
      "  [ 25.  25. 100.  25.  75.]\n",
      "  [ 75.   0. 100.  75.  75.]]\n",
      "\n",
      " [[ 75.  25.  25.  25.   0.]\n",
      "  [ 75.  75.  25.  75.  25.]\n",
      "  [ 75.  25.  25.   0.  75.]]]\n"
     ]
    }
   ],
   "source": [
    "print(d)\n",
    "print(f)"
   ]
  },
  {
   "cell_type": "markdown",
   "metadata": {},
   "source": [
    "#### 18. Bonus question: instead of using numbers (i.e. 0, 25, 50, 75, and 100), use string values  (\"A\", \"B\", \"C\", \"D\", and \"E\") to label the array elements. For the example above, the expected result is:\n",
    "\n",
    "```python\n",
    "[[[ 'D',  'D',  'D',  'B',  'D'],\n",
    "[ 'D',  'D',  'B',  'B',  'B'],\n",
    "[ 'D',  'B',  'D',  'D',  'D']],\n",
    "[[ 'B',  'B',  'B',  'B',  'E'],\n",
    "[ 'D',  'D',  'D',  'D',  'D'],\n",
    "[ 'B',  'D',   'A',  'D', 'D']]]\n",
    "```\n",
    "**Note**: you don't have to use Numpy in this question."
   ]
  },
  {
   "cell_type": "code",
   "execution_count": 166,
   "metadata": {},
   "outputs": [
    {
     "name": "stdout",
     "output_type": "stream",
     "text": [
      "[[[None None None None None]\n",
      "  [None None None None None]\n",
      "  [None None None None None]]\n",
      "\n",
      " [[None None None None None]\n",
      "  [None None None None None]\n",
      "  [None None None None None]]]\n"
     ]
    }
   ],
   "source": [
    "g = np.empty(d.shape ,dtype=object)#al pedirnos que usemos un string como marcador tenemos que especificar el tipo de dato debido a que tenemos numpy.float64 dentro de la matriz\n",
    "print(g)                # y si no lo hacemos nos dara un error al especificar el dtype=object nos permite almacenar string \n",
    "                       #y volvemos a seguir los paso de crear una matriz vacia y pero con el tipo de dato que nos onteresa "
   ]
  },
  {
   "cell_type": "code",
   "execution_count": 170,
   "metadata": {},
   "outputs": [
    {
     "name": "stdout",
     "output_type": "stream",
     "text": [
      "[[['B' 'B' 'D' 'D' 'D']\n",
      "  ['B' 'B' 'E' 'B' 'D']\n",
      "  ['D' 'A' 'E' 'D' 'D']]\n",
      "\n",
      " [['D' 'B' 'B' 'B' 'A']\n",
      "  ['D' 'D' 'B' 'D' 'B']\n",
      "  ['D' 'B' 'B' 'A' 'D']]]\n",
      "<class 'numpy.ndarray'>\n"
     ]
    }
   ],
   "source": [
    "g[(d == d_min)] = \"A\"    #usamos la mis forma y solo sutituimos el marcador que queremos usar que ahora seria un string \n",
    "\n",
    "g[(d == d_mean)] = \"C\"\n",
    "g[(d == d_max)] = \"E\"\n",
    "g[(d_min < d) & (d < d_mean)] = \"B\"\n",
    "g[(d_mean < d) & (d < d_max)] = \"D\"\n",
    "print(g)\n",
    "print(type(g))"
   ]
  }
 ],
 "metadata": {
  "kernelspec": {
   "display_name": "Python [conda env:.conda-m1]",
   "language": "python",
   "name": "conda-env-.conda-m1-py"
  },
  "language_info": {
   "codemirror_mode": {
    "name": "ipython",
    "version": 3
   },
   "file_extension": ".py",
   "mimetype": "text/x-python",
   "name": "python",
   "nbconvert_exporter": "python",
   "pygments_lexer": "ipython3",
   "version": "3.10.14"
  }
 },
 "nbformat": 4,
 "nbformat_minor": 2
}
