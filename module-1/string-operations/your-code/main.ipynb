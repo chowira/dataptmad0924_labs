{
 "cells": [
  {
   "cell_type": "markdown",
   "metadata": {},
   "source": [
    "# Before your start:\n",
    "- Read the README.md file\n",
    "- Comment as much as you can and use the resources in the README.md file\n",
    "- Happy learning!"
   ]
  },
  {
   "cell_type": "code",
   "execution_count": 6,
   "metadata": {},
   "outputs": [],
   "source": [
    "import re"
   ]
  },
  {
   "cell_type": "markdown",
   "metadata": {},
   "source": [
    "# Challenge 1 - Combining Strings\n",
    "\n",
    "Combining strings is an important skill to acquire. There are multiple ways of combining strings in Python, as well as combining strings with variables. We will explore this in the first challenge. In the cell below, combine the strings in the list and add spaces between the strings (do not add a space after the last string). Insert a period after the last string."
   ]
  },
  {
   "cell_type": "code",
   "execution_count": 16,
   "metadata": {
    "scrolled": true
   },
   "outputs": [
    {
     "name": "stdout",
     "output_type": "stream",
     "text": [
      "Durante un tiempo no estuvo segura de si su marido era su marido.\n"
     ]
    },
    {
     "data": {
      "text/plain": [
       "str"
      ]
     },
     "execution_count": 16,
     "metadata": {},
     "output_type": "execute_result"
    }
   ],
   "source": [
    "str_list = ['Durante', 'un', 'tiempo', 'no', 'estuvo', 'segura', 'de', 'si', 'su', 'marido', 'era', 'su', 'marido']\n",
    "str_new = ' '.join(str_list) + '.'\n",
    "print(str_new)\n",
    "type(str_new)\n",
    "#EXPLICACION: nose piden que hagamos una nueva cadena que tenga un espacio entre  cada cadena y que no termine en espacio si no en un punto\n",
    "#1 nos dan la lista\n",
    "#2 definimos la nueva cadena. idicamos que deje un spacio entre cadena y usamos el metedo .join()que combina las listas de cadena en una sola usando el seperador indicado.\n",
    "#2.2 y le sumamos el punto en el final, para que termine en un punto .\n",
    "#3 comprobamos con el print()\n",
    "#4 vemos que es un string "
   ]
  },
  {
   "cell_type": "markdown",
   "metadata": {},
   "source": [
    "In the cell below, use the list of strings to create a grocery list. Start the list with the string `Grocery list: ` and include a comma and a space between each item except for the last one. Include a period at the end. Only include foods in the list that start with the letter 'b' and ensure all foods are lower case."
   ]
  },
  {
   "cell_type": "code",
   "execution_count": 30,
   "metadata": {},
   "outputs": [
    {
     "name": "stdout",
     "output_type": "stream",
     "text": [
      "['bananas', 'bread', 'brownie mix', 'broccoli']\n",
      "Grocery list:bananas,bread,brownie mix,broccoli.\n"
     ]
    }
   ],
   "source": [
    "food_list = ['Bananas', 'Chocolate', 'bread', 'diapers', 'Ice Cream', 'Brownie Mix', 'broccoli']\n",
    "food_list2 =[food.lower() for food in food_list if food.lower().startswith(\"b\")]\n",
    "print(food_list2)\n",
    "Grocery_list = 'Grocery list:'+','.join(food_list2)+'.'\n",
    "print(Grocery_list)\n",
    "#EXPLICAION:nos piden crear una nueva lista donde los requisitos son filtra los elementos y que incluya solo los que empizan con la letra b\n",
    "#Que todos los elementos se conviertan en minusculas.Combinar los elementos en una cadena, separándolos por comas y espacios.\n",
    "#Agregar el prefijo \"Grocery list: \" y un punto al final.\n",
    "#1 definimos food_list2 con el metedo .lower() convertimos las mayusculas en minusculas.\n",
    "#1.2 declaramos que para la comida en las food_list que sean minusculas y comienzan por b se alamacenen en food_list2\n",
    "#1.3 para eso usamos el metodo .lower() y  .startswith()y le idicamos con la letra b\n",
    "#2 definimos Grocery_list luego le indicamos que al prncipio de la cadena muestre el mensaje 'Grocery list:\n",
    "#2 despues indicamos que sume lo resulante del metodo join() indicando que use una , como separador y sumando al final de la frase un punto\n",
    "#3 pedimos que nos muestre la cadena con el print\n"
   ]
  },
  {
   "cell_type": "markdown",
   "metadata": {},
   "source": [
    "In the cell below, write a function that computes the area of a circle using its radius. Compute the area of the circle and insert the radius and the area between the two strings. Make sure to include spaces between the variable and the strings. \n",
    "\n",
    "Note: You can use the techniques we have learned so far or use f-strings. F-strings allow us to embed code inside strings. You can read more about f-strings [here](https://www.python.org/dev/peps/pep-0498/)."
   ]
  },
  {
   "cell_type": "code",
   "execution_count": 58,
   "metadata": {},
   "outputs": [
    {
     "name": "stdout",
     "output_type": "stream",
     "text": [
      "The area of the circle with radius: 4.5 is: 63.61725123519331\n"
     ]
    }
   ],
   "source": [
    "import math\n",
    "\n",
    "string1 = \"The area of the circle with radius:\"\n",
    "string2  = \"is:\"\n",
    "radius = 4.5\n",
    "\n",
    "def area(x, pi = math.pi):\n",
    "    \"\"\"\n",
    "    This function takes a radius and returns the area of a circle. \n",
    "    We also pass a default value for pi.\n",
    "    \n",
    "    Input: Float (and default value for pi)\n",
    "    Output: Float\n",
    "    \n",
    "    Sample input: 5.0\n",
    "    Sample Output: 78.53981633\n",
    "    \"\"\"\n",
    "    return pi * (x ** 2)\n",
    "circle_area = area(radius)\n",
    "result = f\"{string1} {radius} {string2} {circle_area}\"\n",
    "print(result)\n",
    "#1 pedimos que nos retorne el area del circulo usando la formula del calculo de area y completando el proceso \n",
    "#2 definimos el area del circulo: usamos la funcion area()y le pasamos el valor radius. dandonos el area del circulo\n",
    "#3 usamos f-string para crear la cadena .indicando que agarre el string1 y luego tome el radius luego string2 y de ultimo el area del circulo \n",
    "#4 pedimos que no muestre la nueva cadena. dando como resultado el mensaje que queremos.\n",
    "\n",
    "\n"
   ]
  },
  {
   "cell_type": "markdown",
   "metadata": {},
   "source": [
    "# Challenge 2 - Splitting Strings\n",
    "\n",
    "We have first looked at combining strings into one long string. There are times where we need to do the opposite and split the string into smaller components for further analysis. \n",
    "\n",
    "In the cell below, split the string into a list of strings using the space delimiter. Count the frequency of each word in the string in a dictionary. Strip the periods, line breaks and commas from the text. Make sure to remove empty strings from your dictionary."
   ]
  },
  {
   "cell_type": "code",
   "execution_count": 83,
   "metadata": {},
   "outputs": [
    {
     "name": "stdout",
     "output_type": "stream",
     "text": [
      "some say the world will end in firesome say in icefrom what i’ve tasted of desirei hold with those who favor firebut if it had to perish twicei think i know enough of hateto say that for destruction iceis also greatand would suffice\n",
      "<class 'str'>\n",
      "['some', 'say', 'the', 'world', 'will', 'end', 'in', 'firesome', 'say', 'in', 'icefrom', 'what', 'i’ve', 'tasted', 'of', 'desirei', 'hold', 'with', 'those', 'who', 'favor', 'firebut', 'if', 'it', 'had', 'to', 'perish', 'twicei', 'think', 'i', 'know', 'enough', 'of', 'hateto', 'say', 'that', 'for', 'destruction', 'iceis', 'also', 'greatand', 'would', 'suffice']\n",
      "{'some': 1, 'say': 3, 'the': 1, 'world': 1, 'will': 1, 'end': 1, 'in': 2, 'firesome': 1, 'icefrom': 1, 'what': 1, 'i’ve': 1, 'tasted': 1, 'of': 2, 'desirei': 1, 'hold': 1, 'with': 1, 'those': 1, 'who': 1, 'favor': 1, 'firebut': 1, 'if': 1, 'it': 1, 'had': 1, 'to': 1, 'perish': 1, 'twicei': 1, 'think': 1, 'i': 1, 'know': 1, 'enough': 1, 'hateto': 1, 'that': 1, 'for': 1, 'destruction': 1, 'iceis': 1, 'also': 1, 'greatand': 1, 'would': 1, 'suffice': 1}\n"
     ]
    }
   ],
   "source": [
    "poem = \"\"\"Some say the world will end in fire,\n",
    "Some say in ice.\n",
    "From what I’ve tasted of desire\n",
    "I hold with those who favor fire.\n",
    "But if it had to perish twice,\n",
    "I think I know enough of hate\n",
    "To say that for destruction ice\n",
    "Is also great\n",
    "And would suffice.\"\"\"\n",
    "\n",
    "poem_2= poem.replace(',', '').replace('.', '').replace('\\n', '').lower()\n",
    "print(poem_2)\n",
    "print(type(poem_2))\n",
    "list_1= poem_2.split()\n",
    "print(list_1)\n",
    "word_count={}\n",
    "for word in list_1:\n",
    "    if word in word_count:\n",
    "        word_count[word] += 1\n",
    "    else:\n",
    "        word_count[word] = 1\n",
    "print(word_count)            \n",
    "            \n",
    "            \n",
    "            \n",
    "\n",
    "#1 remueve los puntos y comas y conviertelas en minusculas .usamos el .replace() para quitar las , .También reemplazamos los saltos de línea (\\n)\n",
    "#1.1 y usamos el metodo lower() para convertir todos los caracteres en minusculas y no este la misma palabra com mayuscula \n",
    "#2 pedimos que nos imprima el poem_2 y vemos que ha quitado lo que queriamos \n",
    "#3 vemos que es un string\n",
    "#4 dividimos la cadena . usamos el metodo .split() que divide la cadea en lista utilizando el espacio como delimitador\n",
    "#5 comprobamos viendola con un print\n",
    "#6 definimos un diccionario vacio.\n",
    "#7 iteramos para las palabras en list_1 declaramos.\n",
    "#8 si la palabra esta en word_count si es asi incrementamos en 1\n",
    "#9 Si no existe, la agregamos al diccionario con un conteo de 1.\n",
    "#10 pedimos que nos imprima el diccionario "
   ]
  },
  {
   "cell_type": "markdown",
   "metadata": {},
   "source": [
    "In the cell below, find all the words that appear in the text and do not appear in the blacklist. You must parse the string but can choose any data structure you wish for the words that do not appear in the blacklist. Remove all non letter characters and convert all words to lower case."
   ]
  },
  {
   "cell_type": "code",
   "execution_count": 95,
   "metadata": {},
   "outputs": [
    {
     "name": "stdout",
     "output_type": "stream",
     "text": [
      "i was angry with my friend          \n",
      "i told my wrath my wrath did end\n",
      "i was angry with my foe \n",
      "i told it not my wrath did grow \n",
      "\n",
      "and i waterd it in fears\n",
      "night  morning with my tears \n",
      "and i sunned it with smiles\n",
      "and with soft deceitful wiles \n",
      "\n",
      "and it grew both day and night \n",
      "till it bore an apple bright \n",
      "and my foe beheld it shine\n",
      "and he knew that it was mine \n",
      "\n",
      "and into my garden stole \n",
      "when the night had veild the pole \n",
      "in the mornisi no existe la agregamos al diccionario con un conteo de ng glad i see \n",
      "my foe outstretched beneath the tree\n",
      "['i', 'was', 'angry', 'with', 'my', 'friend', 'i', 'told', 'my', 'wrath', 'my', 'wrath', 'did', 'end', 'i', 'was', 'angry', 'with', 'my', 'foe', 'i', 'told', 'it', 'not', 'my', 'wrath', 'did', 'grow', 'and', 'i', 'waterd', 'it', 'in', 'fears', 'night', 'morning', 'with', 'my', 'tears', 'and', 'i', 'sunned', 'it', 'with', 'smiles', 'and', 'with', 'soft', 'deceitful', 'wiles', 'and', 'it', 'grew', 'both', 'day', 'and', 'night', 'till', 'it', 'bore', 'an', 'apple', 'bright', 'and', 'my', 'foe', 'beheld', 'it', 'shine', 'and', 'he', 'knew', 'that', 'it', 'was', 'mine', 'and', 'into', 'my', 'garden', 'stole', 'when', 'the', 'night', 'had', 'veild', 'the', 'pole', 'in', 'the', 'mornisi', 'no', 'existe', 'la', 'agregamos', 'al', 'diccionario', 'con', 'un', 'conteo', 'de', 'ng', 'glad', 'i', 'see', 'my', 'foe', 'outstretched', 'beneath', 'the', 'tree']\n",
      "['i', 'was', 'angry', 'with', 'my', 'friend', 'i', 'told', 'my', 'wrath', 'my', 'wrath', 'did', 'end', 'i', 'was', 'angry', 'with', 'my', 'foe', 'i', 'told', 'not', 'my', 'wrath', 'did', 'grow', 'i', 'waterd', 'fears', 'night', 'morning', 'with', 'my', 'tears', 'i', 'sunned', 'with', 'smiles', 'with', 'soft', 'deceitful', 'wiles', 'grew', 'both', 'day', 'night', 'till', 'bore', 'apple', 'bright', 'my', 'foe', 'beheld', 'shine', 'he', 'knew', 'that', 'was', 'mine', 'into', 'my', 'garden', 'stole', 'when', 'night', 'had', 'veild', 'pole', 'mornisi', 'no', 'existe', 'la', 'agregamos', 'al', 'diccionario', 'con', 'un', 'conteo', 'de', 'ng', 'glad', 'i', 'see', 'my', 'foe', 'outstretched', 'beneath', 'tree']\n",
      "{'night', 'he', 'i', 'my', 'beneath', 'un', 'sunned', 'had', 'bore', 'did', 'glad', 'into', 'stole', 'knew', 'veild', 'tree', 'mornisi', 'foe', 'friend', 'la', 'till', 'not', 'grow', 'when', 'shine', 'pole', 'diccionario', 'that', 'beheld', 'bright', 'apple', 'wrath', 'de', 'angry', 'both', 'grew', 'con', 'outstretched', 'told', 'waterd', 'wiles', 'deceitful', 'morning', 'day', 'al', 'soft', 'existe', 'garden', 'conteo', 'no', 'with', 'agregamos', 'end', 'was', 'see', 'smiles', 'tears', 'mine', 'fears', 'ng'}\n"
     ]
    }
   ],
   "source": [
    "blacklist = ['and', 'as', 'an', 'a', 'the', 'in', 'it']\n",
    "\n",
    "poem = \"\"\"I was angry with my friend;          \n",
    "I told my wrath, my wrath did end.\n",
    "I was angry with my foe: \n",
    "I told it not, my wrath did grow. \n",
    "\n",
    "And I waterd it in fears,\n",
    "Night & morning with my tears: \n",
    "And I sunned it with smiles,\n",
    "And with soft deceitful wiles. \n",
    "\n",
    "And it grew both day and night. \n",
    "Till it bore an apple bright. \n",
    "And my foe beheld it shine,\n",
    "And he knew that it was mine. \n",
    "\n",
    "And into my garden stole, \n",
    "When the night had veild the pole; \n",
    "In the morniSi no existe, la agregamos al diccionario con un conteo de 1.ng glad I see; \n",
    "My foe outstretched beneath the tree.\"\"\"\n",
    "\n",
    "cleaned_poem = re.sub(r'[^a-zA-Z\\s]', '', poem)\n",
    "cleaned_poem_2 = cleaned_poem.lower()\n",
    "print(cleaned_poem_2)\n",
    "word_list = cleaned_poem_2.split()\n",
    "print(word_list)\n",
    "final_words = [ word for word in word_list if word not in blacklist]\n",
    "print(final_words)\n",
    "final_words_set= set(final_words)\n",
    "print(final_words_set )\n",
    "#1 limpiamos el poema con las expresiones regulare. utilizamos la funcion re.sub()que busca y rempalza patrones de cadena \n",
    "#1.1 r. indica que en una cadena cruda [] indican el conjuntos de caracteres. al empezar con ^ indica que no .Entonces, el patrón completo [^a-zA-Z\\s] busca cualquier carácter que no sea una letra (mayúscula o minúscula) o un espacio en blanco\n",
    "#1.2 Al usar re.sub(), estamos diciendo \"busca todos los caracteres que no sean letras o espacios y reemplázalos con una cadena vacía\".\n",
    "#2 con el metodo .lower convertimos todo a minusculas y lo almacenaos en cleaned_poem_2\n",
    "#3 comprobamos que hemos limpiado el string de lo que queriamos y que este en minusculado todo \n",
    "#4 usamos el metdo .split()para crear una lista de las palabras usando el espacio como marcador de separacion \n",
    "#5 comprobamos \n",
    "#6 definimos otra lista e iteramos las palabras son para las palabras en world_list si las palabras no estan en blacklist.\n",
    "#6.1 lo que las palabras en blacklist quedrian fuera de la final_words\n",
    "#7 comprobamos la nueva lista y vemos que hay palabras repetidas.\n",
    "#8 definimos un set y usamos el metodo set()para convertir la lista en set y asi se elimine los duplicados.\n",
    "#9 comprobamos\n",
    "\n"
   ]
  },
  {
   "cell_type": "markdown",
   "metadata": {},
   "source": [
    "# Challenge 3 - Regular Expressions\n",
    "\n",
    "Sometimes, we would like to perform more complex manipulations of our string. This is where regular expressions come in handy. In the cell below, return all characters that are upper case from the string specified below."
   ]
  },
  {
   "cell_type": "code",
   "execution_count": 100,
   "metadata": {
    "scrolled": true
   },
   "outputs": [
    {
     "name": "stdout",
     "output_type": "stream",
     "text": [
      "['T', 'P']\n"
     ]
    },
    {
     "data": {
      "text/plain": [
       "list"
      ]
     },
     "execution_count": 100,
     "metadata": {},
     "output_type": "execute_result"
    }
   ],
   "source": [
    "poem = \"\"\"The apparition of these faces in the crowd;\n",
    "Petals on a wet, black bough.\"\"\"\n",
    "uppercase_letters = re.findall(r'[A-Z]', poem)\n",
    "print(uppercase_letters)\n",
    "\n",
    "#1 definimos  uppercase_letters y samosdos el metodo re.findall que busca todas las coincidencias del patrón especificado en la cadena.\n",
    "#1.1 espicifiamos que es una cadena y tambien que tome encuenta las letras mayusculas contenidas entre ay z que esten en la cadena poem\n",
    "#2 nos muestra la lista de que letras son mayusculas\n"
   ]
  },
  {
   "cell_type": "markdown",
   "metadata": {},
   "source": [
    "In the cell below, filter the list provided and return all elements of the list containing a number. To filter the list, use the `re.search` function. Check if the function does not return `None`. You can read more about the `re.search` function [here](https://docs.python.org/3/library/re.html)."
   ]
  },
  {
   "cell_type": "code",
   "execution_count": 106,
   "metadata": {},
   "outputs": [
    {
     "name": "stdout",
     "output_type": "stream",
     "text": [
      "['123abc', 'abc123', 'JohnSmith1', 'ABBY4']\n"
     ]
    }
   ],
   "source": [
    "data = ['123abc', 'abc123', 'JohnSmith1', 'ABBY4', 'JANE']\n",
    "data_1= [item for item in data if re.search(r'\\d', item)]\n",
    "print(data_1)\n",
    "#1 tenemos definida una lista llamada data\n",
    "#2 definimos data_2 iteramos sobre cada elemento de la lista original y usamos el metodo re.search() para para buscar cualquier dígito (\\d) en el elemento. Si se encuentra un número, el elemento se incluye en la nueva lista.\n",
    "#3 comrprobamos "
   ]
  },
  {
   "cell_type": "markdown",
   "metadata": {},
   "source": [
    "# Bonus Challenge - Regular Expressions II\n",
    "\n",
    "In the cell below, filter the list provided to keep only strings containing at least one digit and at least one lower case letter. As in the previous question, use the `re.search` function and check that the result is not `None`.\n",
    "\n",
    "To read more about regular expressions, check out [this link](https://developers.google.com/edu/python/regular-expressions)."
   ]
  },
  {
   "cell_type": "code",
   "execution_count": 114,
   "metadata": {},
   "outputs": [
    {
     "name": "stdout",
     "output_type": "stream",
     "text": [
      "['123abc', 'abc123', 'JohnSmith1']\n"
     ]
    }
   ],
   "source": [
    "data = ['123abc', 'abc123', 'JohnSmith1', 'ABBY4', 'JANE']\n",
    "data_2 = [item for item in data if re.search(r'\\d', item) and re.search(r'[a-z]', item)]\n",
    "print(data_2)\n",
    "#EXPLICACION: al igal que arriba tenemos que filtra una lista solo que esta vez tenemos dos condiciones que tenga una minuscula y un numero.\n",
    "#1 se define data_2 iteramos sobre la lista data . indicando que para los itens en data usal metedor re.search(). para comrobar si tiene al menos un digito y bueleves a usar el metodo\n",
    "#1.1 para que busque que tenga al menos una minuscula.\n",
    "#1.2 y se alamcene en data_2 solo si cumplen las dos condiciones "
   ]
  }
 ],
 "metadata": {
  "kernelspec": {
   "display_name": "Python 3 (ipykernel)",
   "language": "python",
   "name": "python3"
  },
  "language_info": {
   "codemirror_mode": {
    "name": "ipython",
    "version": 3
   },
   "file_extension": ".py",
   "mimetype": "text/x-python",
   "name": "python",
   "nbconvert_exporter": "python",
   "pygments_lexer": "ipython3",
   "version": "3.9.19"
  }
 },
 "nbformat": 4,
 "nbformat_minor": 2
}
